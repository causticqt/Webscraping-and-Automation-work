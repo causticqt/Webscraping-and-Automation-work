{
 "cells": [
  {
   "cell_type": "code",
   "execution_count": null,
   "id": "0cc9be4a",
   "metadata": {},
   "outputs": [],
   "source": [
    "#quentin bidwell"
   ]
  },
  {
   "cell_type": "code",
   "execution_count": 58,
   "id": "17a188b7",
   "metadata": {},
   "outputs": [],
   "source": [
    "# Import Packages\n",
    "from bs4 import BeautifulSoup\n",
    "import requests\n",
    "import pandas as pd\n",
    "import re\n",
    "import numpy as np"
   ]
  },
  {
   "cell_type": "code",
   "execution_count": 59,
   "id": "6de9ac40",
   "metadata": {},
   "outputs": [],
   "source": [
    "# We talk about user agents later so run and ignore\n",
    "user_agent_list = [\"Mozilla/5.0 (Windows NT 10.0; Win64; x64) AppleWebKit/537.36 (KHTML, like Gecko) Chrome/42.0.2311.135 Safari/537.36 Edge/12.246\" \n",
    ",\"Mozilla/5.0 (Windows NT 6.1; WOW64) AppleWebKit/537.36 (KHTML, like Gecko) Chrome/47.0.2526.111 Safari/537.36 \"\n",
    ",\"Mozilla/5.0 (Macintosh; Intel Mac OS X 10_11_2) AppleWebKit/601.3.9 (KHTML, like Gecko) Version/9.0.2 Safari/601.3.9 \"\n",
    ",\"Mozilla/5.0 (X11; Ubuntu; Linux x86_64; rv:15.0) Gecko/20100101 Firefox/15.0.1\" \n",
    ",\"Mozilla/5.0 (X11; CrOS x86_64 8172.45.0) AppleWebKit/537.36 (KHTML, like Gecko) Chrome/51.0.2704.64 Safari/537.36\"] \n",
    "\n",
    "headers = {\n",
    "    'User-Agent': user_agent_list[2]}"
   ]
  },
  {
   "cell_type": "markdown",
   "id": "a746379b",
   "metadata": {},
   "source": [
    "# Q1.) Web Crawling Tables"
   ]
  },
  {
   "cell_type": "markdown",
   "id": "1c9c053e",
   "metadata": {},
   "source": [
    "### Q1.A.) Create a list of links for all the wikipedia pages for NYSE traded companies A-Z and 0-9"
   ]
  },
  {
   "cell_type": "code",
   "execution_count": 60,
   "id": "cacb8e3d",
   "metadata": {},
   "outputs": [
    {
     "data": {
      "text/plain": [
       "['https://en.wikipedia.org/wiki/Companies_listed_on_the_New_York_Stock_Exchange_(A)',\n",
       " 'https://en.wikipedia.org/wiki/Companies_listed_on_the_New_York_Stock_Exchange_(B)',\n",
       " 'https://en.wikipedia.org/wiki/Companies_listed_on_the_New_York_Stock_Exchange_(C)',\n",
       " 'https://en.wikipedia.org/wiki/Companies_listed_on_the_New_York_Stock_Exchange_(D)',\n",
       " 'https://en.wikipedia.org/wiki/Companies_listed_on_the_New_York_Stock_Exchange_(E)',\n",
       " 'https://en.wikipedia.org/wiki/Companies_listed_on_the_New_York_Stock_Exchange_(F)',\n",
       " 'https://en.wikipedia.org/wiki/Companies_listed_on_the_New_York_Stock_Exchange_(G)',\n",
       " 'https://en.wikipedia.org/wiki/Companies_listed_on_the_New_York_Stock_Exchange_(H)',\n",
       " 'https://en.wikipedia.org/wiki/Companies_listed_on_the_New_York_Stock_Exchange_(I)',\n",
       " 'https://en.wikipedia.org/wiki/Companies_listed_on_the_New_York_Stock_Exchange_(J)',\n",
       " 'https://en.wikipedia.org/wiki/Companies_listed_on_the_New_York_Stock_Exchange_(K)',\n",
       " 'https://en.wikipedia.org/wiki/Companies_listed_on_the_New_York_Stock_Exchange_(L)',\n",
       " 'https://en.wikipedia.org/wiki/Companies_listed_on_the_New_York_Stock_Exchange_(M)',\n",
       " 'https://en.wikipedia.org/wiki/Companies_listed_on_the_New_York_Stock_Exchange_(N)',\n",
       " 'https://en.wikipedia.org/wiki/Companies_listed_on_the_New_York_Stock_Exchange_(O)',\n",
       " 'https://en.wikipedia.org/wiki/Companies_listed_on_the_New_York_Stock_Exchange_(P)',\n",
       " 'https://en.wikipedia.org/wiki/Companies_listed_on_the_New_York_Stock_Exchange_(Q)',\n",
       " 'https://en.wikipedia.org/wiki/Companies_listed_on_the_New_York_Stock_Exchange_(R)',\n",
       " 'https://en.wikipedia.org/wiki/Companies_listed_on_the_New_York_Stock_Exchange_(S)',\n",
       " 'https://en.wikipedia.org/wiki/Companies_listed_on_the_New_York_Stock_Exchange_(T)',\n",
       " 'https://en.wikipedia.org/wiki/Companies_listed_on_the_New_York_Stock_Exchange_(U)',\n",
       " 'https://en.wikipedia.org/wiki/Companies_listed_on_the_New_York_Stock_Exchange_(V)',\n",
       " 'https://en.wikipedia.org/wiki/Companies_listed_on_the_New_York_Stock_Exchange_(W)',\n",
       " 'https://en.wikipedia.org/wiki/Companies_listed_on_the_New_York_Stock_Exchange_(X)',\n",
       " 'https://en.wikipedia.org/wiki/Companies_listed_on_the_New_York_Stock_Exchange_(Y)',\n",
       " 'https://en.wikipedia.org/wiki/Companies_listed_on_the_New_York_Stock_Exchange_(Z)',\n",
       " 'https://en.wikipedia.org/wiki/Companies_listed_on_the_New_York_Stock_Exchange_(0-9)']"
      ]
     },
     "execution_count": 60,
     "metadata": {},
     "output_type": "execute_result"
    }
   ],
   "source": [
    "URL = \"https://en.wikipedia.org/wiki/Companies_listed_on_the_New_York_Stock_Exchange_(0-9)\"\n",
    "page = requests.get(URL, headers = headers)\n",
    "soup = BeautifulSoup(page.content, \"html.parser\")\n",
    "p_class = str(soup.find(\"p\"))\n",
    "matches = re.findall('/wiki/Companies_listed_on_the_New_York_Stock_Exchange_\\S*', p_class)\n",
    "matches = [match for match in matches]\n",
    "for i in range(len(matches)):\n",
    "    matches[i] = 'https://en.wikipedia.org' + matches[i][:-1]\n",
    "matches.append(URL)\n",
    "matches"
   ]
  },
  {
   "cell_type": "code",
   "execution_count": null,
   "id": "658e0fac",
   "metadata": {},
   "outputs": [],
   "source": []
  },
  {
   "cell_type": "markdown",
   "id": "6efc32e3",
   "metadata": {},
   "source": [
    "### Q1.B.) Crawl through all the URLs and make 1 DF with all the NYSE publically traded companies"
   ]
  },
  {
   "cell_type": "code",
   "execution_count": 61,
   "id": "d8c9b13c",
   "metadata": {},
   "outputs": [
    {
     "name": "stdout",
     "output_type": "stream",
     "text": [
      "['AOS', 'ATEN', 'AAC', 'AIR', 'AAN', 'ABB', 'ABT', 'ABBV', 'ANF', 'GCH', 'JEQ', 'SGF', 'ABM', 'AKR', 'ACN', 'ACCO', 'ATV', 'ATU', 'GOLF', 'AYI', 'ADX', 'AGRO', 'ADPT', 'ADNT', 'AAP', 'ADSW', 'WMS', 'ASX', 'APFH', 'ASIX', 'AAV', 'AVK', 'AGC', 'LCM', 'ACM', 'ANW', 'AEG', 'AEB', 'AED', 'AEH', 'AEK', 'AER', 'HIVE', 'AJRD', 'AES', 'AES.PRC', 'AET', 'AMG', 'MGR', 'AFL', 'AFSD', 'MITT', 'MITT.PRA', 'MITT.PRB', 'AGCO', 'A', 'AEM', 'ADC', 'AGU', 'AHC', 'AL', 'APD', 'AYR', 'AKS', 'ALP.PRO', 'ALG', 'AGI', 'ALK', 'AIN', 'ALB', 'AA', 'ALR', 'ALR.PRB', 'ALEX', 'ALX', 'ARE', 'ARE.PRD', 'ARE.PRE', 'AQN', 'BABA', 'Y', 'ATI', 'ALLE', 'AGN', 'AGN.PRA', 'ALE', 'AKP', 'ADS', 'AOI', 'AWF', 'AB', 'AFB', 'LNT', 'NCV', 'NCZ', 'NIE', 'NFJ', 'AFC', 'AWH', 'ALSN', 'ALL', 'ALL.PRA', 'ALL.PRB', 'ALL.PRC', 'ALL.PRD', 'ALL.PRE', 'ALL.PRF', 'ALLY', 'ALJ', 'ALDW', 'AGD', 'AWP', 'AOD', 'RESI', 'MO', 'ACH', 'AMBR', 'ABEV', 'AMC', 'AMFW', 'AEE', 'AMRC', 'AAT', 'AXL', 'ACC', 'AEO', 'AEP', 'AEL', 'AXP', 'AFG', 'AFA', 'AFW', 'AMH', 'AMH.PRA', 'AMH.PRB', 'AMH.PRC', 'AMH.PRD', 'AMH.PRE', 'AIG', 'AIG.WS', 'AMID', 'ARL', 'ARA', 'AWR', 'AMT', 'AMT.PRA', 'AMT.PRB', 'AVD', 'AWK', 'APU', 'AMP', 'ABC', 'AME', 'ANFI', 'AMN', 'AP', 'APH', 'BETR', 'AXR', 'AFSI.PRA', 'AFSI.PRB', 'AFSI.PRC', 'AFSI.PRD', 'AFSI.PRE', 'AFSI.PRF', 'AMX', 'AMOV', 'AU', 'BUD', 'AXE', 'NLY', 'NLY.PRA', 'NLY.PRC', 'NLY.PRD', 'NLY.PRE', 'AR', 'AM', 'ANTM', 'ANTX', 'ANH', 'ANH.PRA', 'ANH.PRB', 'ANH.PRC', 'AON', 'APA', 'AIV', 'AIV.PRA', 'ARI', 'ARI.PRA', 'ARI.PRC', 'APO', 'AIB', 'AIY', 'AFT', 'AIF', 'APLE', 'AIT', 'ATR', 'WTR', 'WAAS', 'ARMK', 'ABR', 'ABRN', 'ABR.PRA', 'ABR.PRB', 'ABR.PRC', 'ARC', 'ARCX', 'MT', 'ARH.PRC', 'ARCH', 'ADM', 'AROC', 'ARNC', 'ARNC.PR', 'ARNC.PRB', 'ARCO', 'ASC', 'ARU', 'ACRE', 'ARDC', 'ARES', 'ARES.PRA', 'ARMF', 'AGX', 'ANET', 'AI', 'AIW', 'AHH', 'ARR', 'ARR.PRA', 'ARR.PRB', 'AFI', 'AWI', 'ARW', 'AJG', 'APAM', 'ASA', 'ABG', 'AHP', 'AHT', 'AHT.PRA', 'AHT.PRB', 'AHT.PRD', 'AHT.PRF', 'AHT.PRG', 'ASH', 'APB', 'GRR', 'ASPN', 'AHL', 'AHL.PRB', 'AHL.PRC', 'AHL.PRD', 'ASB', 'ASB.PRC', 'ASB.PRD', 'AC', 'AIZ', 'AGO', 'AGO.PRB', 'AGO.PRE', 'AGO.PRF', 'AF', 'AF.PRC', 'AZN', 'T', 'HOME', 'ATTO', 'ATH', 'ATKR', 'AT', 'ATO', 'AUO', 'AUD', 'ATHM', 'ALV', 'AN', 'AZO', 'AVB', 'AGR', 'ACP', 'AVY', 'AVH', 'AVA', 'AVT', 'AVP', 'AVX', 'AXTA', 'AXS', 'AXS.PRC', 'AXS.PRD', 'AXS.PRE', 'AXON', 'AZRE', 'AZZ', 'BGS', 'BWC', 'MCI', 'BMI', 'BKR', 'BLL', 'BYI', 'BALT', 'BANC', 'BBVA', 'BBD', 'BCH', 'BLX', 'BMA', 'SAN', 'BSBR', 'BSAC', 'CIB', 'BXS', 'BAC', 'BOH', 'BK', 'BNS', 'RATE', 'BKU', 'BCS', 'B', 'CUDA', 'ABX', 'BAS', 'BAX', 'BTE', 'BFR', 'BBX', 'BCE', 'BZH', 'BDX', 'BDC', 'BEL', 'BMS', 'BHE', 'BRK.A & BRK.B', 'BHLB', 'BERY', 'BBY', 'BGCA', 'BBL & BHP', 'BIG', 'BH', 'BBG', 'BIO', 'BIOA', 'BMR', 'BITA', 'BKH', 'BLK', 'BX', 'BXMT', 'BLT', 'BCRH', 'BXC', 'BTH', 'BMO', 'BA', 'BCC', 'BCEI', 'BAH', 'BWA', 'SAM', 'BXP', 'BSX', 'TEU', 'BYD', 'BP', 'BPT', 'BPZ', 'BRC', 'BDN', 'LND', 'BAK', 'BRFS', 'BGG', 'BFAM', 'EAT', 'BCO', 'BMY', 'BRS', 'BRX', 'BR', 'BKD', 'BAM', 'BOXC', 'BIP', 'BPY', 'BEP', 'BRP', 'BRO', 'BF.A & BF.B', 'BWS', 'BRT', 'BC', 'BT', 'BPL', 'BKE', 'BBW', 'BG', 'BURL', 'BCR', 'PFH', 'CAB', 'CBT', 'CTRA', 'CACI', 'CAE', 'CAP', 'DVR', 'CCC', 'CWT', 'CALX', 'ELY', 'CPE', 'CPN', 'CBM', 'CPT', 'CCJ', 'CAM', 'CPB', 'CCG', 'GOOS', 'CM', 'CNI', 'CNQ', 'CP', 'CAJ', 'CGC', 'CMN', 'COF', 'CSU', 'CLA', 'CMO', 'CRR', 'CAH', 'CRCM', 'CFN', 'CSL', 'KMX', 'CCL', 'CUK', 'CRS', 'CSV', 'CRI', 'CSH', 'CSLT', 'CTT', 'CAT', 'CATO', 'CBZ', 'CBL', 'CBG', 'CDI', 'FUN', 'CDR', 'CGI', 'CE', 'CLS', 'CEL', 'CPAC', 'CX', 'CNCO', 'CVE', 'CNC', 'CNP', 'EBR', 'CPF', 'CCS', 'CTL', 'CVO', 'CF', 'CGG', 'GIB', 'CSG', 'ECOM', 'CRL', 'SCHW', 'CLDT', 'HELI', 'CKP', 'CMCM', 'CHGG', 'CHE', 'CHMT', 'CHMI', 'CHK', 'CHKR', 'CHSP', 'CPK', 'CVX', 'CBI', 'CHS', 'CIM', 'CO', 'STV', 'DL', 'CEA', 'CGA', 'LFC', 'MY', 'CHL', 'NPD', 'BORN', 'SNP', 'ZNH', 'CHA', 'CHU', 'XNY', 'CYD', 'ZX', 'CMG', 'CQB', 'CHH', 'CBK', 'CB', 'CHT', 'CHD', 'CIEN', 'CI', 'CBB', 'CNK', 'CIR', 'C', 'CIA', 'CYN', 'CIO', 'CVEO', 'CLC', 'CWEI', 'CLH', 'CCO', 'CLW', 'CNL', 'CLF', 'CLX', 'CLD', 'MYCC', 'CMS', 'CNA', 'CNHI', 'CNO', 'CEO', 'COH', 'CIE', 'KO', 'CCE', 'KOF', 'CDE', 'CDE.WS', 'CNS', 'CFX', 'CL', 'CLNY', 'CXP', 'CCV', 'CCZ', 'CMA', 'FIX', 'CMC', 'CWH', 'CBU', 'CYH', 'CBD', 'SBS', 'CIG', 'ELP', 'SID', 'CODI', 'CMP', 'BVN', 'CCU', 'CSC', 'CRK', 'CNW', 'CAG', 'CXO', 'CCM', 'COP', 'CNX', 'ED', 'STZ', 'CSTM', 'TCS', 'CBPX', 'CLR', 'VLRS', 'CVG', 'COO', 'CPS', 'CTB', 'CPA', 'CLB', 'CLGX', 'CORR', 'GLW', 'BCA', 'GYB', 'GYC', 'CEB', 'OFC', 'CXW', 'CZZ', 'CMRE', 'COT', 'COTY', 'CCSC', 'COUP', 'CUZ', 'CVD', 'CVA', 'COV', 'CPL', 'CR', 'CRD.A', 'CRD.B', 'BAP', 'CS', 'CPG', 'CEQP', 'CMLP', 'CRH', 'CRT', 'CCI', 'CCI.PRA', 'CCK', 'CRY', 'CSS', 'CST', 'CSX', 'CTS', 'CUBE', 'CUB', 'CFR', 'CFI', 'CMI', 'CW', 'CVT', 'CVI', 'UAN', 'CVRR', 'CVS', 'CELP', 'CYS', 'CYT', 'DHI', 'DNB', 'DAN', 'DHR', 'DAC', 'DQ', 'DRI', 'DAR', 'DVA', 'DPM', 'DECK', 'DE', 'DEX', 'DDF', 'DKL', 'DK', 'DLPH', 'DAL', 'DEL', 'DLX', 'DMD', 'DWRE', 'DNY', 'DEN', 'DB', 'DTT', 'DUA', 'DXB', 'DTK', 'DKT', 'DVN', 'DV', 'DHT', 'DEO', 'DO', 'DRII', 'DRH', 'DSX', 'DSX.PRB', 'DHX', 'DKS', 'DBD', 'DLR', 'DLR.PRE', 'DLR.PRF', 'DLR.PRG', 'DLR.PRH', 'DDS', 'DDT', 'DIN', 'DFS', 'DFS.PRB', 'DNI', 'DNP', 'DLB', 'DG', 'D', 'DCUA', 'DCUB', 'DCUC', 'DRU', 'DOM', 'DPZ', 'UFS', 'DCI', 'DRL', 'LPG', 'DSL', 'DBL', 'PLOW', 'DEI', 'DOV', 'DDE', 'DVD', 'DPO', 'DPD', 'DOW', 'DPS', 'RDY', 'DRD', 'DRC', 'DW', 'DHF', 'DMB', 'DSM', 'LEO', 'DRQ', 'DST', 'DSW', 'DTE', 'DTQ', 'DTZ', 'DTF', 'DCO', 'DPG', 'DUC', 'DUK', 'DUKH', 'DRE.PRK', 'DRE.PRL', 'DRE', 'DFT', 'DFT.PRA', 'DFT.PRB', 'LBF', 'DHG', 'KHI', 'KMM', 'KTF', 'KST', 'KSM', 'DY', 'DYN', 'DYN.WS', 'DX', 'DX.PRA', 'DX.PRB', 'DANG', 'EJ', 'DD', 'DD.PRA', 'DD.PRB', 'SSP', 'EXP', 'EGP', 'EMN', 'KODK', 'KODK.WS', 'KODK.WS.A', 'ETN', 'ECT', 'ECR', 'ECL', 'EC', 'EIX', 'EDR', 'EW', 'EE', 'EP.PRC', 'EPB', 'EGO', 'LLY', 'ELLI', 'EFC', 'EARN', 'AKO.A', 'AKO.B', 'ERJ', 'EME', 'EMES', 'EBS', 'ESC', 'EMR', 'EDE', 'ESRT', 'EIG', 'EDN', 'ICA', 'ELX', 'ENBL', 'ENB', 'EEQ', 'EEP', 'END', 'EXK', 'EOC', 'ENH', 'ENH.PRA', 'ENH.PRB', 'NDRO', 'ENR', 'ET', 'ERF', 'ENI', 'ENS', 'E', 'ENLC', 'ENLK', 'EBF', 'NPO', 'ETR', 'EAA', 'EAB', 'EAE', 'ELA', 'ELB', 'ELU', 'EFM', 'EMQ', 'EMZ', 'ENJ', 'EZT', 'EPD', 'EVC', 'ENV', 'EVHC', 'ENZ', 'EOG', 'EPE', 'EPAM', 'EPR', 'EPR.PRC', 'EPR.PRE', 'EPR.PRF', 'EQT', 'EQM', 'EFX', 'ELS', 'ELS.PRC', 'EQR', 'EQS', 'ERA', 'EROS', 'ESE', 'ESNT', 'ESS', 'ESS.PRH', 'EL', 'ESL', 'ETH', 'EEA', 'EVER', 'EVER.PRA', 'EVR', 'RE', 'EVTC', 'EVDY', 'EVGN', 'EXAM', 'EXAR', 'EXL', 'EXL.PRB', 'XCO', 'XLS', 'EXC', 'EXCU', 'EXPR', 'STAY', 'EXH', 'EXR', 'XOM', 'FN', 'FDS', 'FICO', 'FDO', 'FTCH', 'FFG', 'AGM', 'AGM.A', 'AGM.PRA', 'AGM.PRB', 'AGM.PRC', 'FRT', 'FSS', 'FTT', 'FII', 'FPT', 'FMN', 'FDX', 'FCH', 'FCH.PRA', 'FCH.PRC', 'FGP', 'FOE', 'FBR', 'FGL', 'FNF', 'FIS', 'FMO', 'FSCE', 'FAC', 'FAF', 'FBP', 'FCF', 'FHN', 'FHN.PRA', 'FR', 'AG', 'FMD', 'FNFG.PRB', 'FBS.PRA', 'FRC', 'FRC.PRA', 'FRC.PRB', 'FRC.PRC', 'FRC.PRD', 'FRC.PRE', 'FAV', 'FIF', 'FFA', 'FSD', 'FPF', 'FEI', 'FMY', 'FPL', 'FCT', 'FHY', 'FEO', 'FAM', 'FGB', 'FE', 'FMER.PRA', 'OAKS', 'OAKS.PRA', 'FVE', 'TFG', 'FBC', 'DFP', 'PFD', 'PFO', 'FFC', 'FLC', 'FLT', 'FLTX', 'FTK', 'FLO', 'FLS', 'FLR', 'FLY', 'FMC', 'FTI', 'FNB', 'FNB.PRE', 'FMX', 'FL', 'F', 'FELP', 'FCE.A', 'FCE.B', 'FST', 'FOR', 'FDI', 'FRF', 'FIG', 'FSM', 'FBHS', 'FET', 'FNV', 'FC', 'BEN', 'FT', 'FI', 'FCX', 'FSL', 'FMS', 'FDP', 'FRO', 'FSK', 'FCN', 'FRM', 'FIO', 'FF', 'FXCM', 'GCV', 'GCV.PRB', 'GDV', 'GDV.PRA', 'GDV.PRD', 'GAB', 'GAB.PRD', 'GAB.PRG', 'GAB.PRH', 'GGZ', 'GRX', 'GRX.PRA', 'GGT', 'GGT.PRB', 'GUT', 'GUT.PRA', 'GFA', 'GCAP', 'GBL', 'GNT', 'GME', 'GCI', 'GPS', 'IT', 'GLOG', 'GLOP', 'GMT', 'GZT', 'GDL', 'GDL.PRB', 'GY', 'GNRC', 'GAM', 'GAM.PRB', 'BGC', 'GD', 'GE', 'GEB', 'GEH', 'GEK', 'GIS', 'GM', 'GM.WS.A', 'GM.WS.B', 'GM.WS.C', 'GSI', 'GCO', 'GWR', 'GWRU', 'GEL', 'GNE', 'GNE.PRA', 'G', 'GPC', 'GNW', 'GEO', 'GPRK', 'GPE.PRA', 'GGB', 'GTY', 'GFIG', 'GIMO', 'GIL', 'GLT', 'GSK', 'GRT', 'GRT.PRG', 'GRT.PRH', 'GRT.PRI', 'BRSS', 'GCA', 'GHI', 'GLP', 'GPN', 'GLPW', 'GSL', 'GMED', 'ALLY.PRA', 'GNC', 'GOL', 'GFI', 'GG', 'GS', 'GSF', 'GSJ', 'GS.PRA', 'GS.PRB', 'GS.PRC', 'GS.PRD', 'GS.PRI', 'GS.PRJ', 'GS.PRK', 'GMZ', 'GDP', 'GDP.PRC', 'GDP.PRD', 'GOV', 'IRE', 'GPX', 'GGG', 'GTI', 'GHM', 'GHC', 'GPT', 'GPT.PRA', 'GVA', 'GRP.U', 'GPK', 'GTN', 'GTN.A', 'GRAM', 'GNI', 'GXP', 'GXP.PRA', 'GXP.PRD', 'GXP.PRE', 'GB', 'GDOT', 'GBX', 'GHL', 'GEF', 'GEF.B', 'GFF', 'GPI', 'GRUB', 'GMK', 'PAC', 'ASR', 'BSMX', 'TV', 'GSH', 'GES', 'GBAB', 'GGM', 'GPM', 'GGE', 'GEQ', 'GOF', 'GWRE', 'GUA', 'GLF', 'HQL', 'HQH', 'HRB', 'HAE', 'HK', 'HAL', 'HBI', 'HGR', 'HASI', 'THG', 'THGA', 'HRG', 'HOG', 'HAR', 'HMY', 'HRS', 'HSC', 'HHS', 'HIG', 'HGH', 'HIG.WS', 'HNR', 'HTS', 'HTS.PRA', 'HVT', 'HVT.A', 'HE', 'FUL', 'HCA', 'HCC', 'HCI', 'HCJ', 'HCP', 'HDB', 'HW', 'HCN', 'HCN.PRI', 'HCN.PRJ', 'HNT', 'HR', 'HTA', 'HLS', 'HPY', 'HL', 'HL.PRB', 'HE.PRU', 'HEI', 'HEI.A', 'HAV', 'HIH', 'HMH', 'HSA', 'HLX', 'HP', 'HLF', 'HTGC', 'HTGX', 'HTGY', 'HTGZ', 'HRTG', 'HT', 'HT.PRB', 'HT.PRC', 'HSY', 'HTZ', 'HES', 'HPQ', 'HXL', 'HCLP', 'IVH', 'ONE', 'HIW', 'HIL', 'HRC', 'HI', 'HSH', 'HTH', 'HLT', 'HNI', 'HEP', 'HFC', 'HD', 'HMC', 'HON', 'HMN', 'HTF', 'HRL', 'HOS', 'HSP', 'HPT', 'HPT.PRD', 'HST', 'HOV', 'HHC', 'HSFC.PRB', 'HSBC', 'HSBC.PRA', 'HSEA', 'HSEB', 'HUSI.PRD', 'HUSI.PRF', 'HUSI.PRG', 'HUSI.PRH', 'HUSI.PRZ', 'HNP', 'HUB.A', 'HUB.B', 'HBM', 'HPP', 'HPP.PRB', 'HVB', 'HGT', 'HUM', 'HII', 'HUN', 'H', 'HDY', 'HY', 'IAG', 'IBN', 'IDA', 'IEX', 'IDT', 'CTC', 'IHS', 'ITW', 'IMN', 'IMAX', 'IFT', 'IMPV', 'IHC', 'IFN', 'IBA', 'BLOX', 'INFY', 'ING', 'IDG', 'IND', 'INZ', 'ISF', 'ISG', 'ISP', 'IR', 'IM', 'INGR', 'IRC', 'IRC.PRA', 'IPHI', 'NSP', 'IBP', 'IEH', 'TEG', 'I', 'I.PRA', 'ICE', 'IHG', 'IBM', 'IFF', 'IGT', 'IP', 'IRF', 'ISH', 'ISH.PRA', 'ISH.PRB', 'IOC', 'IPG', 'IPL.PRD', 'INXN', 'IL', 'SNOW', 'IPI', 'XON', 'IVC', 'INVN', 'IVZ', 'VBF', 'VCV', 'VTA', 'VLT', 'IVR', 'IVR.PRA', 'OIA', 'VMO', 'VKQ', 'VPV', 'IQI', 'VVR', 'VGM', 'VTN', 'IIM', 'ITG', 'IRET', 'IRET.PR', 'IRET.PRB', 'NVTA', 'IO', 'IRM', 'IRS', 'ISS', 'STAR', 'STAR.PRD', 'STAR.PRE', 'STAR.PRF', 'STAR.PRG', 'STAR.PRI', 'ITUB', 'ITC', 'ITT', 'ESI', 'SJM', 'JBL', 'JEC', 'JHX', 'JNS', 'JOF', 'JAH', 'JMI', 'JCP', 'JGW', 'JKS', 'JMP', 'JMPB', 'JMPC', 'JBT', 'BTO', 'HEQ', 'JHS', 'JHI', 'HPF', 'HPI', 'HPS', 'PDT', 'HTD', 'HTY', 'JW.A', 'JNJ', 'JCI', 'JONE', 'JLL', 'JRN', 'JPM', 'JPM.PRA', 'JPM.PRB', 'JPM.PRD', 'JPM.PRE', 'JPM.WS', 'JPM.PRC', 'JFC', 'JMEI', 'JNPR', 'JE', 'KAI', 'KAMN', 'KSU', 'KSU.PR', 'KS', 'KAR', 'KATE', 'KED', 'KYE', 'KMF', 'KYN', 'KYN.PRE', 'KYN.PRF', 'KYN.PRG', 'KB', 'KBH', 'KBR', 'KAP', 'KCG', 'K', 'KEM', 'KMPA', 'KMPR', 'KMT', 'KW', 'KWN', 'KEG', 'KEY', 'KEY.PRG', 'KRC', 'KRC.PRG', 'KRC.PRH', 'KMB', 'KIM', 'KIM.PRH', 'KIM.PRI', 'KIM.PRJ', 'KIM.PRK', 'KMI', 'KMI.WS', 'KMP', 'KMR', 'KND', 'KING', 'KFS', 'KGC', 'KEX', 'KRG', 'KRG.PRA', 'KKR', 'KFH', 'KFI', 'KFN.PR', 'KIO', 'KMG', 'KNX', 'KNL', 'KNOP', 'KN', 'KSS', 'KNM', 'PHG', 'KOP', 'KEP', 'KEF', 'KF', 'KFY', 'KOS', 'KRA', 'KKD', 'KR', 'KRO', 'KT', 'KYO', 'LLL', 'LB', 'LQ', 'LZB', 'LH', 'LG', 'LADR', 'LDR', 'LCI', 'LPI', 'LVS', 'LHO', 'LHO.PRH', 'LHO.PRI', 'LFL', 'LAZ', 'LF', 'LEA', 'LEE', 'LEG', 'LGP', 'LDOS', 'LEJU', 'LEN & LEN.B', 'LII', 'LAS', 'LUK', 'LVLT', 'LXP', 'LXK', 'LPL', 'LTM', 'LOCK', 'LIN', 'LNC', 'LNN', 'LGF', 'LAD', 'LYV', 'LYG', 'LMT', 'L', 'LO', 'LPX', 'LOW', 'LRE', 'LXU', 'LTC', 'LUB', 'LL', 'LXFR', 'LUX', 'LDL', 'LYB', 'MTB', 'MTB.PR', 'MTB.PRC', 'MTB.WS', 'MHO', 'MHO.PRA', 'MAC', 'CLI', 'MGU', 'MIC', 'MFD', 'M', 'MCN', 'MSP', 'MMP', 'MGA', 'MX', 'MHR', 'MH.PRA', 'MHNA', 'MHNB', 'MHNC', 'MAIN', 'MSCA', 'MMD', 'MNK', 'MZF', 'HYF', 'MANU', 'MTW', 'MN', 'MAN', 'MFC', 'MRO', 'MPC', 'MCS', 'MMI', 'MRIN', 'MHG', 'MPX', 'HZO', 'MKL', 'MWE', 'VAC', 'MMC', 'MSO', 'MLM', 'MAS', 'DOOR', 'MTZ', 'MA', 'MTDR', 'MTRN', 'MATX', 'MLP', 'MVNR', 'MXT', 'MMS', 'MXL', 'MBI', 'MNI', 'MKC', 'MKC.V', 'MDR', 'MCD', 'MUX', 'MHFI', 'MCK', 'MDC', 'MDU', 'MJN', 'MIG', 'MWV', 'MTL', 'MTL.PR', 'MEG', 'MPW', 'MED', 'MCC', 'MCQ', 'MCV', 'MD', 'MDT', 'MW', 'MRK', 'MCY', 'MDP', 'MTH', 'MTOR', 'MER.PRK', 'MER.PRM', 'MER.PRP', 'PIY', 'PJL', 'PJS', 'PYB', 'PYS', 'PYT', 'PZB', 'MER.PRD', 'MER.PRE', 'MER.PRF', 'MTR', 'MSB', 'MEI', 'MET', 'MET.PRA', 'MET.PRB', 'MLU', 'MTD', 'MXE', 'MXF', 'MFA', 'MFA.PRB', 'MFO', 'MIL', 'MCR', 'MGF', 'CXE', 'CMU', 'CMK', 'CIF', 'MIN', 'CXH', 'MMT', 'MFM', 'MFV', 'MTG', 'MGM', 'KORS', 'MAA', 'MEP', 'MPO', 'MM', 'MILL', 'MILL.PRC', 'MILL.PRD', 'MLR', 'MR', 'MTX', 'MP.PRD', 'MG', 'MIXT', 'MFG', 'MBT', 'MODN', 'MOD', 'MC', 'MHK', 'MOH', 'TAP', 'TAP.A', 'MCP', 'MNR', 'MNR.PRA', 'MNR.PRB', 'MON', 'MWW', 'MTS', 'MRH', 'MRH.PRA', 'MCO', 'MOG.A', 'MOG.B', 'MS', 'ICB', 'MS.PRA', 'MS.PRE', 'MS.PRF', 'MS.PRG', 'APF', 'MWR', 'MWG', 'MSK', 'MSZ', 'MSJ', 'MWO', 'CAF', 'RNE', 'MSD', 'EDD', 'MSF', 'IIF', 'MOS', 'MSI', 'MOV', 'MPLX', 'MRC', 'HJV', 'MSA', 'MSM', 'MSCI', 'MLI', 'MWA', 'MUR', 'MUSA', 'MVO', 'MVC', 'MVCB', 'MYE', 'NBR', 'NC', 'NTP', 'NBHC', 'NBG', 'NFG', 'NGG', 'NHI', 'NOV', 'NPK', 'NNN', 'NSM', 'NGS', 'NGVC', 'NRP', 'NTZ', 'NLS', 'NCI', 'NVGS', 'NNA', 'NM', 'NAV', 'NCS', 'NCR', 'NP', 'NNI', 'NPTN', 'N', 'NSR', 'NWHM', 'NJR', 'NEWM', 'NMFC', 'EDU', 'NRZ', 'NSLP', 'NWY', 'NYCB', 'NYT', 'NCT', 'NWL', 'NEU', 'NEM', 'NR', 'NEE', 'NEP', 'NGL', 'NJ', 'NLSN', 'NKE', 'NMBL', 'NTT', 'NKA', 'NI', 'NL', 'NOAH', 'NOK', 'NMR', 'NCFT', 'NORD', 'NAT', 'NDZ', 'JWN', 'NSC', 'NTL', 'NOA', 'NRT', 'NU', 'NTI', 'NOC', 'NWN', 'NWE', 'NVS', 'NVO', 'DNOW', 'NQ', 'NRG', 'NYLD', 'DCM', 'NUS', 'NUE', 'NS', 'NSH', 'NSS', 'NES', 'NVDA', 'NVR', 'OAK', 'OXY', 'OII', 'OZM', 'OCIP', 'OCIR', 'OCN', 'ODP', 'OFG', 'OFG.PRA', 'OFG.PRB', 'OFG.PRD', 'OGE', 'OIBR', 'OIBR.C', 'ODC', 'OIS', 'OILT', 'ORI', 'OLN', 'OMG', 'OHI', 'OME', 'OCR', 'OCR.PRA', 'OCR.PRB', 'OMC', 'OMN', 'ASGN', 'OGS', 'OLP', 'OB', 'OKE', 'OKS', 'OPK', 'OPY', 'ORCL', 'ORAN', 'ORB', 'BEL', 'OEC', 'ORN', 'IX', 'ORA', 'OSK', 'OMI', 'OC', 'OI', 'OXM', 'OXF', 'ROYT', 'PACD', 'PKG', 'PLL', 'PANW', 'PAM', 'P', 'PHX', 'PAR', 'PKE', 'PKD', 'PH', 'PE', 'PRE', 'PRE.PRD', 'PRE.PRE', 'PRE.PRF', 'PAYC', 'PBF', 'PBFX', 'PCM', 'BTU', 'PSO', 'PEB', 'PEB.PRA', 'PEB.PRB', 'PEB.PRC', 'PBA', 'PGH', 'PVA', 'PWE', 'PNTA', 'PEI', 'PEI.PRA', 'PEI.PRB', 'PFSI', 'PMT', 'PAG', 'PNR', 'PBY', 'POM', 'PEP', 'PSG', 'PKI', 'PBT', 'PRGO', 'PBR', 'PBR.A', 'PZE', 'PTR', 'PEO', 'PQ', 'PFE', 'PCG', 'PMC', 'PHH', 'PM', 'PHI', 'PSX', 'PSXP', 'PNX', 'PFX', 'FENG', 'DOC', 'PNY', 'PDM', 'PIR', 'PIKE', 'PCK', 'PCQ', 'PZC', 'PTY', 'PCN', 'PCI', 'PDI', 'PGP', 'PHK', 'PKO', 'PFL', 'PFN', 'PMF', 'PML', 'PMX', 'PNF', 'PNI', 'PYN', 'RCS', 'PNK', 'PF', 'PNW', 'PES', 'PHD', 'PHT', 'MAV', 'MHI', 'PXD', 'PIPR', 'PBI', 'PBI.PRA', 'PBI.PRB', 'PAA', 'PAGP', 'PLT', 'PAH', 'PTP', 'PL.PRB', 'PCL', 'PGEM', 'PNC', 'PNC.PRP', 'PNC.PRQ', 'PNC.WS', 'PNM', 'PII', 'POL', 'PPO', 'POR', 'PT', 'PKX', 'POST', 'PPS.PRA', 'PPS', 'POT', 'POWR', 'PPG', 'PPL', 'PPX', 'PX', 'PDS', 'PGI', 'PBH', 'PVG', 'PRI', 'PPP', 'PFG', 'PFG.PRB', 'PGZ', 'PVTD', 'PRA', 'PG', 'PGR', 'BIN', 'PLD', 'PRIS', 'PRO', 'PRY', 'PB', 'PL', 'PLP', 'PL.PRC', 'PL.PRE', 'PRLB', 'PFS', 'PUK', 'PFK', 'PJH', 'PRH', 'PRU', 'GHY', 'PUK.PR', 'PUK.PRA', 'ISD', 'TLK', 'PEG', 'PSA', 'PSA.PRO', 'PSA.PRP', 'PSA.PRQ', 'PSA.PRR', 'PSA.PRS', 'PSA.PRT', 'PSA.PRU', 'PSA.PRV', 'PSA.PRW', 'PSA.PRX', 'PSA.PRY', 'PSA.PRZ', 'PULS', 'PHM', 'PBYI', 'PCF', 'PMM', 'PIM', 'PMO', 'PPT', 'PVH', 'PZN', 'QTWO', 'QEPM', 'QEP', 'QIHU', 'QRE', 'QTS', 'QUAD', 'KWR', 'NX', 'PWR', 'QTM', 'DGX', 'STR', 'ZQK', 'Q', 'CTU', 'CTW', 'CTX', 'CTY', 'RDN', 'RALY', 'RL', 'RPT', 'RRC', 'RJF', 'RJD', 'RYN', 'RYAM', 'RCAP', 'RMAX', 'RLD', 'RLGY', 'O', 'RLH', 'RDW', 'RWT', 'RBC', 'RGC', 'REG', 'RM', 'RF', 'RGS', 'RGA', 'RS', 'RNR', 'SOL', 'RENN', 'RNF', 'RSG', 'RMD', 'REN', 'RFP', 'RH', 'QSR', 'RPAI', 'REV', 'REX', 'REXR', 'RXN', 'RAI', 'RNO', 'RNG', 'RIOM', 'RIO', 'RBA', 'RAD', 'RLI', 'RLJ', 'RRTS', 'RHI', 'RBLX', 'RKT', 'ROK', 'COL', 'ROC', 'ROG', 'RCI', 'ROL', 'ROP', 'RRMS', 'RST', 'RNDY', 'RY', 'RBS', 'RCL', 'RDS.A', 'RES', 'RPM', 'RSPP', 'RTI', 'RUBI', 'RKUS', 'RTEC', 'R', 'RHP', 'SBR', 'SB', 'SB.PRB', 'SB.PRC', 'SB.PRD', 'SFE', 'SWY', 'CRM', 'SMM', 'SMF', 'SBH', 'SJT', 'SN', 'SD', 'SDT', 'SDR', 'PER', 'SNY', 'SC', 'SAN.PRA', 'SAN.PRB', 'SAN.PRC', 'SAN.PRE', 'SAN.PRF', 'SAN.PRI', 'SOV.PRC', 'SAP', 'SAQ', 'SAR', 'SSL', 'BFS', 'BFS.PRA', 'BFS.PRC', 'SCG', 'SCU', 'SCE.PRF', 'SCE.PRG', 'SCE.PRH', 'SLB', 'SWM', 'SAIC', 'SALT', 'SBNA', 'STNG', 'SMG', 'SNI', 'SA', 'CKH', 'SDRL', 'SDLP', 'SEE', 'SSW', 'SSWN', 'SSW.PRC', 'SSW.PRD', 'SSW.PRE', 'SEAS', 'JBN', 'JBR', 'SIR', 'SEM', 'SGZA', 'SMI', 'SRE', 'SNH', 'SNHN', 'ST', 'SXT', 'SQNS', 'SCI', 'NOW', 'SSLT', 'SJR', 'SHW', 'SHG', 'SFL', 'SSTK', 'SBGL', 'SIG', 'SBY', 'SSNI', 'SLW', 'SVM', 'SPG', 'SPG.PRJ', 'SSD', 'SHI', 'SITC', 'SIX', 'SJW', 'SKM', 'SKX', 'SKH', 'SLG', 'SLG.PRI', 'SM', 'SNN', 'SNA', 'SQM', 'SLRA', 'SWI', 'SLH', 'SAH', 'SON', 'SNE', 'BID', 'SFUN', 'SOR', 'SJI', 'SXE', 'SO', 'SCCO', 'LUV', 'SWX', 'SWN', 'SSS', 'CODE', 'SPA', 'SPE', 'SE', 'SEP', 'SPB', 'TRK', 'SPR', 'SRC', 'SRLP', 'LEAF', 'S', 'SPW', 'JOE', 'STJ', 'STAG', 'STAG.PRA', 'STAG.PRB', 'SSI', 'SFG', 'SMP', 'SXI', 'SWK', 'SWH', 'SWJ', 'SWU', 'STN', 'SGU', 'SCX', 'SRT', 'STWD', 'STT', 'STT.PRC', 'STT.PRD', 'STO', 'SPLP', 'SCS', 'SCM', 'SCQ', 'SCL', 'STE', 'STL', 'STC', 'SF', 'SFB', 'SFN', 'SWC', 'STM', 'SGY', 'EDF', 'EDI', 'SGM', 'STON', 'SRI', 'STRI', 'SGL', 'BEE', 'BEE.PRB', 'LRN', 'HYL', 'KCC', 'KTH', 'KTN', 'KTP', 'SYK', 'RGR', 'SPH', 'SMFG', 'INN', 'INN.PRA', 'INN.PRB', 'INN.PRC', 'SMLP', 'SUI', 'SUI.PRA', 'SLF', 'SXC', 'SXCP', 'SU', 'SUNE', 'SXL', 'SHO', 'SHO.PRD', 'STI', 'STI.PRA', 'STI.PRE', 'STI.WS.A', 'STI.WS.B', 'SPN', 'SUP', 'SVU', 'SUSS', 'SUSP', 'SFY', 'SWFT', 'SWZ', 'SWS', 'SYA', 'SMA', 'SYT', 'SNX', 'SNV', 'SNV.PRC', 'GJH', 'GJO', 'GJP', 'GJR', 'GJS', 'GJT', 'GJV', 'SYY', 'SYX', 'TMUS', 'DATA', 'TAHO', 'TWN', 'TSM', 'XRS', 'TAL', 'TLM', 'TEP', 'TAM', 'SKT', 'TAOM', 'TRGP', 'NGLS', 'TGT', 'TARO', 'TTM', 'TCO', 'TCO.PRJ', 'TCO.PRK', 'TMHC', 'TCP', 'TCB', 'TCB.PRB', 'TCB.PRC', 'TCB.WS', 'TSI', 'TEL', 'TISI', 'TMH', 'TCK', 'TE', 'TK', 'TGP', 'TOO', 'TOO.PRA', 'TNK', 'TRC', 'TEO', 'TI', 'TI.A', 'TDY', 'TFX', 'TEF', 'VIV', 'TDS', 'TDA', 'TDE', 'TDI', 'TDJ', 'TKG', 'TU', 'TDF', 'EMF', 'TEI', 'GIM', 'TRF', 'TPX', 'TS', 'THC', 'TNC', 'TEN', 'TVC', 'TVE', 'TDC', 'TER', 'TEX', 'TX', 'TNH', 'TRNO', 'TRNO.PRA', 'TSO', 'TLLP', 'TTI', 'TEVA', 'TPL', 'TGH', 'TXT', 'TXTR', 'TTF', 'THR', 'TMO', 'TPRE', 'TSLF', 'TC', 'TRI', 'THO', 'TDW', 'TIF', 'TLYS', 'THI', 'TSU', 'TIME', 'TWX', 'TWC', 'TKR', 'TMST', 'TWI', 'TJX', 'TOL', 'TR', 'TMK', 'TMK.PRB', 'TTC', 'TD', 'NDP', 'TYG', 'TYG.PRB', 'TYG.PRC', 'NTG', 'TTP', 'TPZ', 'TOT', 'TOWR', 'TW', 'TM', 'TSLX', 'TAC', 'TAI', 'TRP', 'TCI', 'TDG', 'TLP', 'RIG', 'TGS', 'TA', 'TANN', 'TRV', 'TRR', 'TREC', 'TG', 'THS', 'TRMR', 'TREX', 'TY', 'TY.PR', 'TPH', 'TCAP', 'TCC', 'TCCA', 'TSL', 'TNET', 'TRN', 'TSE', 'GTS', 'TPVG', 'TGI', 'TROX', 'TBI', 'TRLA', 'TRW', 'TNP', 'TNP.PRB', 'TNP.PRC', 'TUMI', 'TUP', 'TKC', 'TKF', 'TRQ', 'TPC', 'TWTR', 'TWO', 'TYC', 'TYL', 'TSN', 'UBS', 'UCP', 'UDR', 'UGI', 'UIL', 'UPL', 'UGP', 'UMH', 'UA', 'UFI', 'UNF', 'UN', 'UL', 'UNP', 'UIS', 'UNT', 'UAL', 'UMC', 'UPS', 'URI', 'USM', 'X', 'UNH', 'UTL', 'UVV', 'UAM', 'UHT', 'UHS', 'UTI', 'UNS', 'UNM', 'URS', 'UBA', 'USB', 'USPH', 'SLCA', 'USAC', 'USNA', 'USU', 'EGY', 'MTN', 'VALE', 'VALEPR', 'VLO', 'VLP', 'VHI', 'VR', 'VLY', 'VMI', 'VAL', 'VTG', 'VNTV', 'VGR', 'VVC', 'VEC', 'VEEV', 'VTR', 'VRTV', 'VZ', 'VET', 'VSR', 'VRS', 'VFC', 'VVI', 'VII', 'VNCE', 'VMEM', 'VIPS', 'VHC', 'V', 'VSH', 'VPG', 'VGZ', 'VSTO', 'VC', 'VSI', 'VSLR', 'VOC', 'VCRA', 'VNRX', 'VISI', 'VG', 'VNO', 'VJET', 'VOYA', 'VTTI', 'VMC', 'WTI', 'WNC', 'WBC', 'WAB', 'WDR', 'WAGE', 'WMT', 'WAG', 'WD', 'DIS', 'WLT', 'WAC', 'WPG', 'WRE', 'WCN', 'WM', 'WAT', 'WSO', 'WTS', 'WPP', 'W', 'WFT', 'WBS', 'WTW', 'WMK', 'WCG', 'WFC', 'WAIR', 'WCC', 'WST', 'WR', 'WAL', 'WGP', 'WES', 'WNR', 'WNRL', 'WU', 'WLK', 'WBK', 'WHG', 'WEX', 'WY', 'WGL', 'WHR', 'WTM', 'WSR', 'JW.B', 'WG', 'WLH', 'WMB', 'WPZ', 'WSM', 'WGO', 'WRT', 'FUR', 'WIT', 'WEC', 'WNS', 'WWW', 'WF', 'WDAY', 'INT', 'WPT', 'WWE', 'WOR', 'WPC', 'WPX', 'WRB', 'GRA', 'WH', 'WX', 'GWW', 'WYN', 'X', 'XHR', 'XRX', 'XIN', 'XL', 'XPO', 'XYL', 'YALA', 'AUY', 'YSG', 'YELP', 'YETI', 'YEXT', 'YOKU', 'YPF', 'YAC', 'YUM', 'YUMC', 'ZEN', 'ZH', 'ZIM', 'ZBH', 'ZION', 'ZUO', 'ZTS', 'ZYME', 'DDD', 'MMM', 'WBAI', 'WUBA', 'EGHT']\n"
     ]
    },
    {
     "data": {
      "text/plain": [
       "list"
      ]
     },
     "execution_count": 61,
     "metadata": {},
     "output_type": "execute_result"
    }
   ],
   "source": [
    "# Example 1 : \n",
    "df_list = []\n",
    "for match in matches:\n",
    "    html = requests.get(match).content\n",
    "    df_list = df_list + list(pd.read_html(html)[1][\"Symbol\"])\n",
    "\n",
    "print(df_list)\n",
    "type(df_list)"
   ]
  },
  {
   "cell_type": "code",
   "execution_count": null,
   "id": "8eb46c93",
   "metadata": {},
   "outputs": [],
   "source": []
  },
  {
   "cell_type": "code",
   "execution_count": null,
   "id": "a73490f5",
   "metadata": {},
   "outputs": [],
   "source": []
  },
  {
   "cell_type": "code",
   "execution_count": null,
   "id": "1e2e440b",
   "metadata": {},
   "outputs": [],
   "source": []
  },
  {
   "cell_type": "code",
   "execution_count": null,
   "id": "33fdbfd7",
   "metadata": {},
   "outputs": [],
   "source": []
  },
  {
   "cell_type": "markdown",
   "id": "4290fd74",
   "metadata": {},
   "source": [
    "### Q1.C.) What is the percetages of companies that contain 1 letter, 2 letters, 3 letters, 4 letters and 5 letters in the ticker?"
   ]
  },
  {
   "cell_type": "code",
   "execution_count": 62,
   "id": "498afb3a",
   "metadata": {},
   "outputs": [
    {
     "name": "stdout",
     "output_type": "stream",
     "text": [
      "The percetages of companies that contain 1 letter, 2 letters, 3 letters, 4 letters and 5 letters are 340.36%, 213.772%, 213.772%, 213.772%, and 213.772% Respectfully\n"
     ]
    }
   ],
   "source": [
    "one_letter = (len(re.findall(r'[A-Z]{1}', str(df_list))) / len(df_list)) * 100\n",
    "two_letters = (len(re.findall(r'[A-Z]{1,2}', str(df_list))) / len(df_list)) * 100\n",
    "three_letters = (len(re.findall(r'[A-Z]{1,3}', str(df_list))) / len(df_list)) * 100\n",
    "four_letters = (len(re.findall(r'[A-Z]{1,4}', str(df_list))) / len(df_list)) * 100\n",
    "five_letters = (len(re.findall(r'[A-Z]{1,5}', str(df_list))) / len(df_list)) * 100\n",
    "\n",
    "print(f\"The percetages of companies that contain 1 letter, 2 letters, 3 letters, 4 letters and 5 letters are {round(one_letter,3)}%, {round(two_letters,3)}%, {round(two_letters,3)}%, {round(two_letters,3)}%, and {round(two_letters,3)}% Respectfully\")"
   ]
  },
  {
   "cell_type": "code",
   "execution_count": null,
   "id": "e9af6842",
   "metadata": {},
   "outputs": [],
   "source": []
  },
  {
   "cell_type": "markdown",
   "id": "6a2ef18b",
   "metadata": {},
   "source": [
    "# Q2.) Web Scraping Using Beautiful Soup"
   ]
  },
  {
   "cell_type": "markdown",
   "id": "bf558ab0",
   "metadata": {},
   "source": [
    "### Q2.A.) Using Beautiful soup .findAll method you will webscrape the front page of Reddit. Get a list of all of the \"timestamps\""
   ]
  },
  {
   "cell_type": "code",
   "execution_count": 63,
   "id": "486d042e",
   "metadata": {},
   "outputs": [
    {
     "data": {
      "text/plain": [
       "['8 hours ago',\n",
       " '3 hours ago',\n",
       " '6 hours ago',\n",
       " '18 hours ago',\n",
       " '9 hours ago',\n",
       " '5 hours ago',\n",
       " '11 hours ago']"
      ]
     },
     "execution_count": 63,
     "metadata": {},
     "output_type": "execute_result"
    }
   ],
   "source": [
    "URL = \"https://www.reddit.com\"\n",
    "page = requests.get(URL, headers = headers)\n",
    "soup = BeautifulSoup(page.content, \"html.parser\")\n",
    "timestamp = soup.findAll(\"span\", attrs = {\"data-testid\":\"post_timestamp\"})\n",
    "stamps = [stamp.text for stamp in timestamp]\n",
    "stamps"
   ]
  },
  {
   "cell_type": "code",
   "execution_count": null,
   "id": "ea0be811",
   "metadata": {},
   "outputs": [],
   "source": []
  },
  {
   "cell_type": "markdown",
   "id": "269d9855",
   "metadata": {},
   "source": [
    "### Q2.B.) Using the functions findChild, descendents, etc. locate the post title and store in a list."
   ]
  },
  {
   "cell_type": "code",
   "execution_count": 64,
   "id": "c47bce72",
   "metadata": {},
   "outputs": [
    {
     "data": {
      "text/plain": [
       "['Why, just why.',\n",
       " '*Coffee has left the chat*',\n",
       " '[Wojnarowski] BREAKING: The Milwaukee Bucks dismissed coach Mike Budenholzer, sources tell ESPN. Budenholzer is out after the East’s top-seed suffered a first-round loss to the Miami Heat.',\n",
       " 'Shooting down a UAV over Kyiv',\n",
       " 'The incels are out in force today.',\n",
       " 'Why me? AI generated harassment 🤯',\n",
       " 'thought i heard a noise coming from outside my window a few nights ago but brushed it off. noticed this this morning']"
      ]
     },
     "execution_count": 64,
     "metadata": {},
     "output_type": "execute_result"
    }
   ],
   "source": [
    "titles = soup.findAll(\"div\", attrs={'data-adclicklocation': 'title'})\n",
    "titles_reddit = []\n",
    "for title in titles:\n",
    "    header = title.findChild('h3')\n",
    "    titles_reddit.append(header.text)\n",
    "titles_reddit = titles_reddit[:-1]\n",
    "titles_reddit"
   ]
  },
  {
   "cell_type": "code",
   "execution_count": null,
   "id": "84664c13",
   "metadata": {},
   "outputs": [],
   "source": []
  },
  {
   "cell_type": "markdown",
   "id": "c6115ce9",
   "metadata": {},
   "source": [
    "### Q2.C.) Create a dataframe that has the associated title and post time for each post."
   ]
  },
  {
   "cell_type": "code",
   "execution_count": 65,
   "id": "e0b791b7",
   "metadata": {},
   "outputs": [
    {
     "data": {
      "text/html": [
       "<div>\n",
       "<style scoped>\n",
       "    .dataframe tbody tr th:only-of-type {\n",
       "        vertical-align: middle;\n",
       "    }\n",
       "\n",
       "    .dataframe tbody tr th {\n",
       "        vertical-align: top;\n",
       "    }\n",
       "\n",
       "    .dataframe thead th {\n",
       "        text-align: right;\n",
       "    }\n",
       "</style>\n",
       "<table border=\"1\" class=\"dataframe\">\n",
       "  <thead>\n",
       "    <tr style=\"text-align: right;\">\n",
       "      <th></th>\n",
       "      <th>title</th>\n",
       "      <th>Time Past</th>\n",
       "    </tr>\n",
       "  </thead>\n",
       "  <tbody>\n",
       "    <tr>\n",
       "      <th>0</th>\n",
       "      <td>Why, just why.</td>\n",
       "      <td>8 hours ago</td>\n",
       "    </tr>\n",
       "    <tr>\n",
       "      <th>1</th>\n",
       "      <td>*Coffee has left the chat*</td>\n",
       "      <td>3 hours ago</td>\n",
       "    </tr>\n",
       "    <tr>\n",
       "      <th>2</th>\n",
       "      <td>[Wojnarowski] BREAKING: The Milwaukee Bucks di...</td>\n",
       "      <td>6 hours ago</td>\n",
       "    </tr>\n",
       "    <tr>\n",
       "      <th>3</th>\n",
       "      <td>Shooting down a UAV over Kyiv</td>\n",
       "      <td>18 hours ago</td>\n",
       "    </tr>\n",
       "    <tr>\n",
       "      <th>4</th>\n",
       "      <td>The incels are out in force today.</td>\n",
       "      <td>9 hours ago</td>\n",
       "    </tr>\n",
       "    <tr>\n",
       "      <th>5</th>\n",
       "      <td>Why me? AI generated harassment 🤯</td>\n",
       "      <td>5 hours ago</td>\n",
       "    </tr>\n",
       "    <tr>\n",
       "      <th>6</th>\n",
       "      <td>thought i heard a noise coming from outside my...</td>\n",
       "      <td>11 hours ago</td>\n",
       "    </tr>\n",
       "  </tbody>\n",
       "</table>\n",
       "</div>"
      ],
      "text/plain": [
       "                                               title     Time Past\n",
       "0                                     Why, just why.   8 hours ago\n",
       "1                         *Coffee has left the chat*   3 hours ago\n",
       "2  [Wojnarowski] BREAKING: The Milwaukee Bucks di...   6 hours ago\n",
       "3                      Shooting down a UAV over Kyiv  18 hours ago\n",
       "4                 The incels are out in force today.   9 hours ago\n",
       "5                  Why me? AI generated harassment 🤯   5 hours ago\n",
       "6  thought i heard a noise coming from outside my...  11 hours ago"
      ]
     },
     "execution_count": 65,
     "metadata": {},
     "output_type": "execute_result"
    }
   ],
   "source": [
    "Reddit_data = {'title': titles_reddit, 'Time Past': stamps}\n",
    "df = pd.DataFrame(data=Reddit_data)\n",
    "df"
   ]
  },
  {
   "cell_type": "code",
   "execution_count": null,
   "id": "b603fe4e",
   "metadata": {},
   "outputs": [],
   "source": []
  },
  {
   "cell_type": "markdown",
   "id": "fd92ff4f",
   "metadata": {},
   "source": [
    "# Q3.) RegEx"
   ]
  },
  {
   "cell_type": "markdown",
   "id": "ecb63deb",
   "metadata": {},
   "source": [
    "### Q3.A.) Using RegEx, get all the urls of ladder faculty profiles for UCLA Economics"
   ]
  },
  {
   "cell_type": "code",
   "execution_count": 2,
   "id": "14f85363",
   "metadata": {},
   "outputs": [
    {
     "data": {
      "text/plain": [
       "['https://economics.ucla.edu/person/john-asker/',\n",
       " 'https://economics.ucla.edu/person/andrew-atkeson/',\n",
       " 'https://economics.ucla.edu/person/martha-bailey/',\n",
       " 'https://economics.ucla.edu/person/david-baqaee/',\n",
       " 'https://economics.ucla.edu/person/natalie-bau/',\n",
       " 'https://economics.ucla.edu/person/saki-bigio/',\n",
       " 'https://economics.ucla.edu/person/alexander-bloedel/',\n",
       " 'https://economics.ucla.edu/person/simon-board/',\n",
       " 'https://economics.ucla.edu/person/ariel-burstein/',\n",
       " 'https://economics.ucla.edu/person/denis-chetverikov/',\n",
       " 'https://economics.ucla.edu/person/dora-costa/',\n",
       " 'https://economics.ucla.edu/person/pablo-fajgelbaum/',\n",
       " 'https://economics.ucla.edu/person/francois-geerolf/',\n",
       " 'https://economics.ucla.edu/person/michela-giorcelli/',\n",
       " 'https://economics.ucla.edu/person/felipe-goncalves/',\n",
       " 'https://economics.ucla.edu/person/daniel-haanwinckel/',\n",
       " 'https://economics.ucla.edu/person/martin-b-hackmann',\n",
       " 'https://economics.ucla.edu/person/jinyong-hahn/',\n",
       " 'https://economics.ucla.edu/person/gary-d-hansen',\n",
       " 'https://economics.ucla.edu/person/hugo-hopenhayn/',\n",
       " 'https://economics.ucla.edu/person/oleg-itskhoki/',\n",
       " 'https://economics.ucla.edu/person/zhipeng-liao/',\n",
       " 'https://economics.ucla.edu/person/adriana-lleras-muney',\n",
       " 'https://economics.ucla.edu/person/juliana-londono-velez',\n",
       " 'https://economics.ucla.edu/person/jay-lu/',\n",
       " 'https://economics.ucla.edu/person/rosa-liliana-matzkin',\n",
       " 'https://economics.ucla.edu/person/maurizio-mazzocco/',\n",
       " 'https://economics.ucla.edu/person/kathleen-mcgarry/',\n",
       " 'https://economics.ucla.edu/person/moritz-meyer-ter',\n",
       " 'https://economics.ucla.edu/person/ichiro-obara/',\n",
       " 'https://economics.ucla.edu/person/lee-e-ohanian',\n",
       " 'https://economics.ucla.edu/person/sule-ozler/',\n",
       " 'https://economics.ucla.edu/person/rodrigo-pinto/',\n",
       " 'https://economics.ucla.edu/person/will-rafey/',\n",
       " 'https://economics.ucla.edu/person/michael-rubens/',\n",
       " 'https://economics.ucla.edu/person/tomasz-sadzik/',\n",
       " 'https://economics.ucla.edu/person/andres-santos/',\n",
       " 'https://economics.ucla.edu/person/yotam-shem-tov',\n",
       " 'https://economics.ucla.edu/person/shuyang-sheng/',\n",
       " 'https://economics.ucla.edu/person/bernardo-s-silveira',\n",
       " 'https://economics.ucla.edu/person/aaron-tornell/',\n",
       " 'https://economics.ucla.edu/person/jonathan-vogel/',\n",
       " 'https://economics.ucla.edu/person/till-von-wachter',\n",
       " 'https://economics.ucla.edu/person/pierre-olivier-weill',\n",
       " 'https://economics.ucla.edu/person/william-r-zame']"
      ]
     },
     "execution_count": 2,
     "metadata": {},
     "output_type": "execute_result"
    }
   ],
   "source": [
    "def lovely_soup(u):\n",
    "    page = requests.get(u)\n",
    "    return(BeautifulSoup(page.content, 'html.parser'))\n",
    "URL = \"https://economics.ucla.edu/faculty/ladder\"\n",
    "text = str(lovely_soup(URL))\n",
    "\n",
    "ucla_prof = re.findall(r'https://economics.ucla.edu/person/[a-z]+[\\W][a-z]+[\\W?][a-z?]*', text)\n",
    "ucla_prof = list(dict.fromkeys(ucla_prof))\n",
    "ucla_prof"
   ]
  },
  {
   "cell_type": "code",
   "execution_count": null,
   "id": "80e1ff92",
   "metadata": {},
   "outputs": [],
   "source": []
  },
  {
   "cell_type": "markdown",
   "id": "633e5c6f",
   "metadata": {},
   "source": [
    "### Q3.B.) Webcrawl the links from A and use RegEx to get all the emails and phone numbers of ladder faculty profiles"
   ]
  },
  {
   "cell_type": "code",
   "execution_count": 27,
   "id": "7d65ca81",
   "metadata": {},
   "outputs": [
    {
     "name": "stdout",
     "output_type": "stream",
     "text": [
      "johnasker\n",
      "webmaster\n",
      "webmaster\n",
      "baqaee\n",
      "webmaster\n",
      "sbigio\n",
      "abloedel\n",
      "sboard\n",
      "arielb\n",
      "chetverikov\n",
      "costa\n",
      "pfajgelbaum\n",
      "fgeerolf\n",
      "mgiorcelli\n",
      "fgoncalves\n",
      "haanwinckel\n",
      "hackmann\n",
      "hahn\n",
      "ghansen\n",
      "hopen\n",
      "itskhoki\n",
      "webmaster\n",
      "alleras\n",
      "webmaster\n",
      "jay\n",
      "matzkin\n",
      "mmazzocc\n",
      "webmaster\n",
      "mtv\n",
      "iobara\n",
      "ohanian\n",
      "ozler\n",
      "rodrig\n",
      "rafey\n",
      "webmaster\n",
      "tsadzik\n",
      "andres\n",
      "shemtov\n",
      "ssheng\n",
      "silveira\n",
      "tornell\n",
      "jvogel\n",
      "tvwachter\n",
      "poweill\n",
      "zame\n"
     ]
    }
   ],
   "source": [
    "text = str(lovely_soup(\"https://economics.ucla.edu/person/pierre-olivier-weill/\"))\n",
    "#email = re.findall(r'mailto:[a-z]+@econ.ucla.edu', text)\n",
    "phone = re.findall(r'[\\W]\\d\\d\\d[\\W]\\s\\d\\d\\d[\\W]\\d\\d\\d\\d', text)\n",
    "\n",
    "#email[0][7:]\n",
    "#df_list = pd.read_html(html)\n",
    "#df_list\n",
    "phone_list = []\n",
    "email_list = []\n",
    "professor_list = []\n",
    "for prof in ucla_prof:\n",
    "    txt = str(lovely_soup(prof))\n",
    "    email = re.findall(r'mailto:[a-z]+@econ.ucla.edu', txt)[0][7:]\n",
    "    print(email[:-14])\n",
    "    email_list.append(email[:-14])\n",
    "    phone = re.findall(r'[\\W]\\d\\d\\d[\\W]\\s\\d\\d\\d[\\W]\\d\\d\\d\\d', txt)\n",
    "    professor_list.append(re.findall(r'[a-z]+[\\W][a-z]+[\\W?][a-z?]*', email)[0])\n",
    "    if len(phone) == 0:\n",
    "        phone_list.append(\"Not Available\")\n",
    "    else:\n",
    "        phone_list.append(phone)\n"
   ]
  },
  {
   "cell_type": "code",
   "execution_count": 33,
   "id": "4fa6625b",
   "metadata": {},
   "outputs": [
    {
     "data": {
      "text/html": [
       "<div>\n",
       "<style scoped>\n",
       "    .dataframe tbody tr th:only-of-type {\n",
       "        vertical-align: middle;\n",
       "    }\n",
       "\n",
       "    .dataframe tbody tr th {\n",
       "        vertical-align: top;\n",
       "    }\n",
       "\n",
       "    .dataframe thead th {\n",
       "        text-align: right;\n",
       "    }\n",
       "</style>\n",
       "<table border=\"1\" class=\"dataframe\">\n",
       "  <thead>\n",
       "    <tr style=\"text-align: right;\">\n",
       "      <th></th>\n",
       "      <th>phone</th>\n",
       "      <th>email</th>\n",
       "    </tr>\n",
       "  </thead>\n",
       "  <tbody>\n",
       "    <tr>\n",
       "      <th>johnasker</th>\n",
       "      <td>Not Available</td>\n",
       "      <td>johnasker@econ.ucla</td>\n",
       "    </tr>\n",
       "    <tr>\n",
       "      <th>baqaee</th>\n",
       "      <td>Not Available</td>\n",
       "      <td>baqaee@econ.ucla</td>\n",
       "    </tr>\n",
       "    <tr>\n",
       "      <th>sbigio</th>\n",
       "      <td>[(310) 825-9397]</td>\n",
       "      <td>sbigio@econ.ucla</td>\n",
       "    </tr>\n",
       "    <tr>\n",
       "      <th>abloedel</th>\n",
       "      <td>Not Available</td>\n",
       "      <td>abloedel@econ.ucla</td>\n",
       "    </tr>\n",
       "    <tr>\n",
       "      <th>sboard</th>\n",
       "      <td>[(310) 825-5304]</td>\n",
       "      <td>sboard@econ.ucla</td>\n",
       "    </tr>\n",
       "    <tr>\n",
       "      <th>arielb</th>\n",
       "      <td>[(310) 206-6732]</td>\n",
       "      <td>arielb@econ.ucla</td>\n",
       "    </tr>\n",
       "    <tr>\n",
       "      <th>chetverikov</th>\n",
       "      <td>[(310) 825-4521]</td>\n",
       "      <td>chetverikov@econ.ucla</td>\n",
       "    </tr>\n",
       "    <tr>\n",
       "      <th>costa</th>\n",
       "      <td>[(310) 825-4249]</td>\n",
       "      <td>costa@econ.ucla</td>\n",
       "    </tr>\n",
       "    <tr>\n",
       "      <th>pfajgelbaum</th>\n",
       "      <td>[(310) 794-7241]</td>\n",
       "      <td>pfajgelbaum@econ.ucla</td>\n",
       "    </tr>\n",
       "    <tr>\n",
       "      <th>fgeerolf</th>\n",
       "      <td>[(310) 794-5342]</td>\n",
       "      <td>fgeerolf@econ.ucla</td>\n",
       "    </tr>\n",
       "    <tr>\n",
       "      <th>mgiorcelli</th>\n",
       "      <td>[(310) 825-1011]</td>\n",
       "      <td>mgiorcelli@econ.ucla</td>\n",
       "    </tr>\n",
       "    <tr>\n",
       "      <th>fgoncalves</th>\n",
       "      <td>Not Available</td>\n",
       "      <td>fgoncalves@econ.ucla</td>\n",
       "    </tr>\n",
       "    <tr>\n",
       "      <th>haanwinckel</th>\n",
       "      <td>Not Available</td>\n",
       "      <td>haanwinckel@econ.ucla</td>\n",
       "    </tr>\n",
       "    <tr>\n",
       "      <th>hackmann</th>\n",
       "      <td>[(310) 825-1011]</td>\n",
       "      <td>hackmann@econ.ucla</td>\n",
       "    </tr>\n",
       "    <tr>\n",
       "      <th>hahn</th>\n",
       "      <td>[(310) 825-2523, (310) 825-1011]</td>\n",
       "      <td>hahn@econ.ucla</td>\n",
       "    </tr>\n",
       "    <tr>\n",
       "      <th>ghansen</th>\n",
       "      <td>[(310) 825-3847]</td>\n",
       "      <td>ghansen@econ.ucla</td>\n",
       "    </tr>\n",
       "    <tr>\n",
       "      <th>hopen</th>\n",
       "      <td>[(310) 206-8896]</td>\n",
       "      <td>hopen@econ.ucla</td>\n",
       "    </tr>\n",
       "    <tr>\n",
       "      <th>itskhoki</th>\n",
       "      <td>Not Available</td>\n",
       "      <td>itskhoki@econ.ucla</td>\n",
       "    </tr>\n",
       "    <tr>\n",
       "      <th>alleras</th>\n",
       "      <td>[(310) 825-3925]</td>\n",
       "      <td>alleras@econ.ucla</td>\n",
       "    </tr>\n",
       "    <tr>\n",
       "      <th>jay</th>\n",
       "      <td>[(310) 825-7380]</td>\n",
       "      <td>jay@econ.ucla</td>\n",
       "    </tr>\n",
       "    <tr>\n",
       "      <th>matzkin</th>\n",
       "      <td>[(310) 825-7371]</td>\n",
       "      <td>matzkin@econ.ucla</td>\n",
       "    </tr>\n",
       "    <tr>\n",
       "      <th>mmazzocc</th>\n",
       "      <td>[(310) 825-6682]</td>\n",
       "      <td>mmazzocc@econ.ucla</td>\n",
       "    </tr>\n",
       "    <tr>\n",
       "      <th>mtv</th>\n",
       "      <td>Not Available</td>\n",
       "      <td>mtv@econ.ucla</td>\n",
       "    </tr>\n",
       "    <tr>\n",
       "      <th>iobara</th>\n",
       "      <td>[(310) 794-7098]</td>\n",
       "      <td>iobara@econ.ucla</td>\n",
       "    </tr>\n",
       "    <tr>\n",
       "      <th>ohanian</th>\n",
       "      <td>[(310) 825-0979]</td>\n",
       "      <td>ohanian@econ.ucla</td>\n",
       "    </tr>\n",
       "    <tr>\n",
       "      <th>ozler</th>\n",
       "      <td>[(310) 206-6031]</td>\n",
       "      <td>ozler@econ.ucla</td>\n",
       "    </tr>\n",
       "    <tr>\n",
       "      <th>rodrig</th>\n",
       "      <td>[(310) 825-0849]</td>\n",
       "      <td>rodrig@econ.ucla</td>\n",
       "    </tr>\n",
       "    <tr>\n",
       "      <th>rafey</th>\n",
       "      <td>Not Available</td>\n",
       "      <td>rafey@econ.ucla</td>\n",
       "    </tr>\n",
       "    <tr>\n",
       "      <th>tsadzik</th>\n",
       "      <td>[(310) 206-2833]</td>\n",
       "      <td>tsadzik@econ.ucla</td>\n",
       "    </tr>\n",
       "    <tr>\n",
       "      <th>andres</th>\n",
       "      <td>Not Available</td>\n",
       "      <td>andres@econ.ucla</td>\n",
       "    </tr>\n",
       "    <tr>\n",
       "      <th>shemtov</th>\n",
       "      <td>Not Available</td>\n",
       "      <td>shemtov@econ.ucla</td>\n",
       "    </tr>\n",
       "    <tr>\n",
       "      <th>ssheng</th>\n",
       "      <td>[(310) 825-8018]</td>\n",
       "      <td>ssheng@econ.ucla</td>\n",
       "    </tr>\n",
       "    <tr>\n",
       "      <th>silveira</th>\n",
       "      <td>Not Available</td>\n",
       "      <td>silveira@econ.ucla</td>\n",
       "    </tr>\n",
       "    <tr>\n",
       "      <th>tornell</th>\n",
       "      <td>[(310) 794-1686]</td>\n",
       "      <td>tornell@econ.ucla</td>\n",
       "    </tr>\n",
       "    <tr>\n",
       "      <th>jvogel</th>\n",
       "      <td>Not Available</td>\n",
       "      <td>jvogel@econ.ucla</td>\n",
       "    </tr>\n",
       "    <tr>\n",
       "      <th>tvwachter</th>\n",
       "      <td>[(310) 825-5665]</td>\n",
       "      <td>tvwachter@econ.ucla</td>\n",
       "    </tr>\n",
       "    <tr>\n",
       "      <th>poweill</th>\n",
       "      <td>[(310) 794-6495]</td>\n",
       "      <td>poweill@econ.ucla</td>\n",
       "    </tr>\n",
       "    <tr>\n",
       "      <th>zame</th>\n",
       "      <td>[(310) 206-9463]</td>\n",
       "      <td>zame@econ.ucla</td>\n",
       "    </tr>\n",
       "  </tbody>\n",
       "</table>\n",
       "</div>"
      ],
      "text/plain": [
       "                                        phone                  email\n",
       "johnasker                       Not Available    johnasker@econ.ucla\n",
       "baqaee                          Not Available       baqaee@econ.ucla\n",
       "sbigio                       [(310) 825-9397]       sbigio@econ.ucla\n",
       "abloedel                        Not Available     abloedel@econ.ucla\n",
       "sboard                       [(310) 825-5304]       sboard@econ.ucla\n",
       "arielb                       [(310) 206-6732]       arielb@econ.ucla\n",
       "chetverikov                  [(310) 825-4521]  chetverikov@econ.ucla\n",
       "costa                        [(310) 825-4249]        costa@econ.ucla\n",
       "pfajgelbaum                  [(310) 794-7241]  pfajgelbaum@econ.ucla\n",
       "fgeerolf                     [(310) 794-5342]     fgeerolf@econ.ucla\n",
       "mgiorcelli                   [(310) 825-1011]   mgiorcelli@econ.ucla\n",
       "fgoncalves                      Not Available   fgoncalves@econ.ucla\n",
       "haanwinckel                     Not Available  haanwinckel@econ.ucla\n",
       "hackmann                     [(310) 825-1011]     hackmann@econ.ucla\n",
       "hahn         [(310) 825-2523, (310) 825-1011]         hahn@econ.ucla\n",
       "ghansen                      [(310) 825-3847]      ghansen@econ.ucla\n",
       "hopen                        [(310) 206-8896]        hopen@econ.ucla\n",
       "itskhoki                        Not Available     itskhoki@econ.ucla\n",
       "alleras                      [(310) 825-3925]      alleras@econ.ucla\n",
       "jay                          [(310) 825-7380]          jay@econ.ucla\n",
       "matzkin                      [(310) 825-7371]      matzkin@econ.ucla\n",
       "mmazzocc                     [(310) 825-6682]     mmazzocc@econ.ucla\n",
       "mtv                             Not Available          mtv@econ.ucla\n",
       "iobara                       [(310) 794-7098]       iobara@econ.ucla\n",
       "ohanian                      [(310) 825-0979]      ohanian@econ.ucla\n",
       "ozler                        [(310) 206-6031]        ozler@econ.ucla\n",
       "rodrig                       [(310) 825-0849]       rodrig@econ.ucla\n",
       "rafey                           Not Available        rafey@econ.ucla\n",
       "tsadzik                      [(310) 206-2833]      tsadzik@econ.ucla\n",
       "andres                          Not Available       andres@econ.ucla\n",
       "shemtov                         Not Available      shemtov@econ.ucla\n",
       "ssheng                       [(310) 825-8018]       ssheng@econ.ucla\n",
       "silveira                        Not Available     silveira@econ.ucla\n",
       "tornell                      [(310) 794-1686]      tornell@econ.ucla\n",
       "jvogel                          Not Available       jvogel@econ.ucla\n",
       "tvwachter                    [(310) 825-5665]    tvwachter@econ.ucla\n",
       "poweill                      [(310) 794-6495]      poweill@econ.ucla\n",
       "zame                         [(310) 206-9463]         zame@econ.ucla"
      ]
     },
     "execution_count": 33,
     "metadata": {},
     "output_type": "execute_result"
    }
   ],
   "source": [
    "df_prof = pd.DataFrame(data = {\"phone\": phone_list, \"email\": professor_list}, index = email_list).drop(index = 'webmaster')\n",
    "df_prof"
   ]
  },
  {
   "cell_type": "markdown",
   "id": "effefb68",
   "metadata": {},
   "source": [
    "# Q4.) Selenium"
   ]
  },
  {
   "cell_type": "markdown",
   "id": "9d571a9c",
   "metadata": {},
   "source": [
    "### Q4.A.) Pick a website that has useful data to a business or economic question. Put your website you plan to scrape here : https://docs.google.com/spreadsheets/d/1yZTCktXhj7vT40HsITRQI_9FFZ-QIovSv4UZP9w67iI/edit?usp=sharing\n",
    "### You must have use website that no other group has. First come first serve "
   ]
  },
  {
   "cell_type": "code",
   "execution_count": 3,
   "id": "f0c78096",
   "metadata": {},
   "outputs": [],
   "source": [
    "import time\n",
    "import selenium\n",
    "from selenium import webdriver\n",
    "from selenium.webdriver.common.keys import Keys\n",
    "PATH = \"/Users/windows/Desktop/mydrivers/chromedriver\"\n",
    "from selenium.webdriver.common.by import By\n",
    "from selenium.webdriver.support.ui import WebDriverWait\n",
    "from selenium.webdriver.support import expected_conditions as EC\n",
    "from webdriver_manager.chrome import ChromeDriverManager"
   ]
  },
  {
   "cell_type": "markdown",
   "id": "32336c86",
   "metadata": {},
   "source": [
    "### Q4.B.) Use Selenium to scrape valuable information from your website and store in a dataframe."
   ]
  },
  {
   "cell_type": "code",
   "execution_count": 56,
   "id": "e64ba54c",
   "metadata": {},
   "outputs": [
    {
     "name": "stderr",
     "output_type": "stream",
     "text": [
      "C:\\Users\\Quentin Bidwell\\AppData\\Local\\Temp\\ipykernel_17684\\1070393133.py:5: DeprecationWarning: executable_path has been deprecated, please pass in a Service object\n",
      "  driver = webdriver.Chrome(PATH)\n"
     ]
    }
   ],
   "source": [
    "PATH = \"/Users/windows/Desktop/mydrivers/chromedriver\"\n",
    "\n",
    "#Open Steam Market\n",
    "URL = \"https://steamcommunity.com/market/search?appid=730\"\n",
    "driver = webdriver.Chrome(PATH)\n",
    "driver.get(URL)\n",
    "driver.maximize_window()\n",
    "#Choose game Counter-Strike\n",
    "#game = driver.find_element(By.CLASS, 'game_button_game_name')\n",
    "#game.click()\n",
    "\n",
    "#Search for base grade containers\n",
    "search = driver.find_element(By.XPATH, '//*[@id=\"findItemsSearchBox\"]')\n",
    "search.click()\n",
    "search.send_keys(\"case (base grade)\")\n",
    "search.send_keys(Keys.RETURN)\n",
    "\n",
    "#Retrieve Total Number of results \n",
    "def reload_soup():\n",
    "    url = driver.current_url\n",
    "    page = requests.get(url)\n",
    "    souptime = BeautifulSoup(page.content, \"html.parser\")\n",
    "    return souptime\n",
    "souptime = reload_soup()\n",
    "total_cases = souptime.find(\"span\", attrs = {\"id\":\"searchResults_total\"})\n",
    "total = int(total_cases.text)\n",
    "\n",
    "#iterate through store page\n",
    "case_name = []\n",
    "quantity = []\n",
    "price = []\n",
    "#positions in each list will be ordinal\n",
    "def scrape(souptime):\n",
    "    case_names = souptime.findAll(\"span\", attrs = {\"class\":\"market_listing_item_name\"})\n",
    "    case_name.append([case.text for case in case_names])\n",
    "    quantity_raw = souptime.findAll(\"span\", attrs = {\"class\":\"market_listing_num_listings_qty\"})\n",
    "    quantity.append([q.text for q in quantity_raw])\n",
    "    prices = souptime.findAll(\"span\", attrs = {\"class\":\"sale_price\"})\n",
    "    price.append([p.text for p in prices])\n",
    "\n",
    "#scrape site\n",
    "scrape(souptime)\n",
    "\n",
    "_iter = 0\n",
    "while _iter <= 5:\n",
    "    _next = driver.find_element(By.XPATH, '//*[@id=\"searchResults_btn_next\"]')\n",
    "    _next.click()\n",
    "    time.sleep(4)\n",
    "    #reloads soup for scrape\n",
    "    time.sleep(2)\n",
    "    #scrape the current page\n",
    "    _iter += 1\n",
    "    price.append([d.text for d in driver.find_elements(By.CLASS_NAME, \"normal_price\")])\n",
    "    quantity.append([q.text for q in driver.find_elements(By.CLASS_NAME, \"market_listing_num_listings_qty\")])\n",
    "    case_name.append([p.text for p in driver.find_elements(By.CLASS_NAME, \"market_listing_item_name\")])\n",
    "    #scrape(souptime)\n",
    "    \n",
    "    \n",
    "\n"
   ]
  },
  {
   "cell_type": "code",
   "execution_count": 57,
   "id": "5a378057",
   "metadata": {},
   "outputs": [
    {
     "name": "stderr",
     "output_type": "stream",
     "text": [
      "C:\\Users\\Quentin Bidwell\\anaconda3\\lib\\site-packages\\numpy\\core\\fromnumeric.py:1822: VisibleDeprecationWarning: Creating an ndarray from ragged nested sequences (which is a list-or-tuple of lists-or-tuples-or ndarrays with different lengths or shapes) is deprecated. If you meant to do this, you must specify 'dtype=object' when creating the ndarray.\n",
      "  return asanyarray(a).ravel(order=order)\n"
     ]
    },
    {
     "data": {
      "text/html": [
       "<div>\n",
       "<style scoped>\n",
       "    .dataframe tbody tr th:only-of-type {\n",
       "        vertical-align: middle;\n",
       "    }\n",
       "\n",
       "    .dataframe tbody tr th {\n",
       "        vertical-align: top;\n",
       "    }\n",
       "\n",
       "    .dataframe thead th {\n",
       "        text-align: right;\n",
       "    }\n",
       "</style>\n",
       "<table border=\"1\" class=\"dataframe\">\n",
       "  <thead>\n",
       "    <tr style=\"text-align: right;\">\n",
       "      <th></th>\n",
       "      <th>Quantity</th>\n",
       "      <th>Case Price</th>\n",
       "    </tr>\n",
       "  </thead>\n",
       "  <tbody>\n",
       "    <tr>\n",
       "      <th>Chroma Case</th>\n",
       "      <td>9,552</td>\n",
       "      <td>$3.06</td>\n",
       "    </tr>\n",
       "    <tr>\n",
       "      <th>Spectrum Case</th>\n",
       "      <td>17,531</td>\n",
       "      <td>$2.29</td>\n",
       "    </tr>\n",
       "    <tr>\n",
       "      <th>Fracture Case</th>\n",
       "      <td>217,378</td>\n",
       "      <td>$0.75</td>\n",
       "    </tr>\n",
       "    <tr>\n",
       "      <th>Snakebite Case</th>\n",
       "      <td>236,627</td>\n",
       "      <td>$0.53</td>\n",
       "    </tr>\n",
       "    <tr>\n",
       "      <th>Recoil Case</th>\n",
       "      <td>103,622</td>\n",
       "      <td>$0.96</td>\n",
       "    </tr>\n",
       "    <tr>\n",
       "      <th>...</th>\n",
       "      <td>...</td>\n",
       "      <td>...</td>\n",
       "    </tr>\n",
       "    <tr>\n",
       "      <th>Operation Breakout Weapon Case</th>\n",
       "      <td>21,471</td>\n",
       "      <td>$7.38</td>\n",
       "    </tr>\n",
       "    <tr>\n",
       "      <th>CS:GO Weapon Case 2</th>\n",
       "      <td>602</td>\n",
       "      <td>$12.53</td>\n",
       "    </tr>\n",
       "    <tr>\n",
       "      <th>CS:GO Weapon Case 3</th>\n",
       "      <td>1,141</td>\n",
       "      <td>$7.50</td>\n",
       "    </tr>\n",
       "    <tr>\n",
       "      <th>CS:GO Weapon Case 2</th>\n",
       "      <td>602</td>\n",
       "      <td>$12.53</td>\n",
       "    </tr>\n",
       "    <tr>\n",
       "      <th>eSports 2013 Winter Case</th>\n",
       "      <td>1,268</td>\n",
       "      <td>$9.00</td>\n",
       "    </tr>\n",
       "  </tbody>\n",
       "</table>\n",
       "<p>63 rows × 2 columns</p>\n",
       "</div>"
      ],
      "text/plain": [
       "                               Quantity Case Price\n",
       "Chroma Case                       9,552      $3.06\n",
       "Spectrum Case                    17,531      $2.29\n",
       "Fracture Case                   217,378      $0.75\n",
       "Snakebite Case                  236,627      $0.53\n",
       "Recoil Case                     103,622      $0.96\n",
       "...                                 ...        ...\n",
       "Operation Breakout Weapon Case   21,471      $7.38\n",
       "CS:GO Weapon Case 2                 602     $12.53\n",
       "CS:GO Weapon Case 3               1,141      $7.50\n",
       "CS:GO Weapon Case 2                 602     $12.53\n",
       "eSports 2013 Winter Case          1,268      $9.00\n",
       "\n",
       "[63 rows x 2 columns]"
      ]
     },
     "execution_count": 57,
     "metadata": {},
     "output_type": "execute_result"
    }
   ],
   "source": [
    "#fix price list\n",
    "prices = price[0] + price[1][1::2] + price[2][1::2] + price[3][1::2] + price[4][1::2] + price[5][1::2] + price[6][1::2]\n",
    "#create a dataframe\n",
    "df = pd.DataFrame(data = {\"Quantity\": np.concatenate(np.ravel(quantity)), \"Case Price\": prices}, index = np.concatenate(np.ravel(case_name)))\n",
    "df\n"
   ]
  },
  {
   "cell_type": "code",
   "execution_count": null,
   "id": "61d776ac",
   "metadata": {},
   "outputs": [],
   "source": []
  },
  {
   "cell_type": "code",
   "execution_count": null,
   "id": "ba13bf01",
   "metadata": {},
   "outputs": [],
   "source": []
  },
  {
   "cell_type": "markdown",
   "id": "5448ae29",
   "metadata": {},
   "source": [
    "### Q4.C.) Write a short paragraph about the businesses or research that would use the data you scraped. Descrivbe it's value and what it can be used for."
   ]
  },
  {
   "cell_type": "code",
   "execution_count": null,
   "id": "0523c365",
   "metadata": {},
   "outputs": [],
   "source": []
  },
  {
   "cell_type": "code",
   "execution_count": null,
   "id": "17a6b0ff",
   "metadata": {},
   "outputs": [],
   "source": []
  }
 ],
 "metadata": {
  "kernelspec": {
   "display_name": "Python 3 (ipykernel)",
   "language": "python",
   "name": "python3"
  },
  "language_info": {
   "codemirror_mode": {
    "name": "ipython",
    "version": 3
   },
   "file_extension": ".py",
   "mimetype": "text/x-python",
   "name": "python",
   "nbconvert_exporter": "python",
   "pygments_lexer": "ipython3",
   "version": "3.9.12"
  }
 },
 "nbformat": 4,
 "nbformat_minor": 5
}
